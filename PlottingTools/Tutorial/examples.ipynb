{
 "cells": [
  {
   "cell_type": "markdown",
   "id": "2bc141ab",
   "metadata": {},
   "source": [
    "# Examples - LSST Plotting tool"
   ]
  },
  {
   "cell_type": "markdown",
   "id": "baffc996",
   "metadata": {},
   "source": [
    "### Orbital element distribution plots"
   ]
  },
  {
   "cell_type": "markdown",
   "id": "0031f51f",
   "metadata": {},
   "source": [
    "### A series of high level functions is contained in the orbital_element_distributions module. It contains the functions; eccentricity, perihelion, inclination and semi_major_axis."
   ]
  },
  {
   "cell_type": "code",
   "execution_count": 1,
   "id": "54872da6",
   "metadata": {},
   "outputs": [],
   "source": [
    "import os\n",
    "import sys\n",
    "import pathlib\n",
    "import matplotlib.pyplot as plt\n",
    "sys.path.append('../Source')"
   ]
  },
  {
   "cell_type": "markdown",
   "id": "77de1f5b",
   "metadata": {},
   "source": [
    "#### If one wants to see the semi-major axis distributions for inner solar system objects, i.e. objects at around 2 au, firstly import the function"
   ]
  },
  {
   "cell_type": "code",
   "execution_count": 2,
   "id": "a3e70db8",
   "metadata": {},
   "outputs": [],
   "source": [
    "from orbital_element_distributions import semi_major_axis"
   ]
  },
  {
   "cell_type": "code",
   "execution_count": 3,
   "id": "13414fae",
   "metadata": {
    "scrolled": false
   },
   "outputs": [
    {
     "name": "stdout",
     "output_type": "stream",
     "text": [
      "a filter\n",
      "CPU times: user 199 ms, sys: 2.9 ms, total: 202 ms\n",
      "Wall time: 2.2 s\n"
     ]
    },
    {
     "data": {
      "image/png": "[encoded data removed]",
      "text/plain": [
       "<Figure size 432x288 with 1 Axes>"
      ]
     },
     "metadata": {
      "needs_background": "light"
     },
     "output_type": "display_data"
    }
   ],
   "source": [
    "%%time\n",
    "example_1 = semi_major_axis(start_time = \"2023-07-01\", \\\n",
    "                            end_time = \"2023-07-05\", \\\n",
    "                            plot_type=\"BOX\", \\\n",
    "                            filters=['g','r', 'i', 'z', 'y'], \\\n",
    "                            max_a = 2, \\\n",
    "                            title=\"Inner solar system semi-major axis distributions\\n 2023-07-01 - 2023-07-05\")"
   ]
  },
  {
   "cell_type": "markdown",
   "id": "92a6c02e",
   "metadata": {},
   "source": [
    "#### To save additional calls to the database the dataframe can be accessed as an attribute"
   ]
  },
  {
   "cell_type": "code",
   "execution_count": 4,
   "id": "57345298",
   "metadata": {
    "scrolled": true
   },
   "outputs": [
    {
     "data": {
      "text/html": [
       "<div>\n",
       "<style scoped>\n",
       "    .dataframe tbody tr th:only-of-type {\n",
       "        vertical-align: middle;\n",
       "    }\n",
       "\n",
       "    .dataframe tbody tr th {\n",
       "        vertical-align: top;\n",
       "    }\n",
       "\n",
       "    .dataframe thead th {\n",
       "        text-align: right;\n",
       "    }\n",
       "</style>\n",
       "<table border=\"1\" class=\"dataframe\">\n",
       "  <thead>\n",
       "    <tr style=\"text-align: right;\">\n",
       "      <th></th>\n",
       "      <th>ssobjectid</th>\n",
       "      <th>peri</th>\n",
       "      <th>a</th>\n",
       "      <th>filter</th>\n",
       "    </tr>\n",
       "  </thead>\n",
       "  <tbody>\n",
       "    <tr>\n",
       "      <th>0</th>\n",
       "      <td>-9216230035109811886</td>\n",
       "      <td>0.81110</td>\n",
       "      <td>0.898586</td>\n",
       "      <td>i</td>\n",
       "    </tr>\n",
       "    <tr>\n",
       "      <th>1</th>\n",
       "      <td>-9216230035109811886</td>\n",
       "      <td>0.81110</td>\n",
       "      <td>0.898586</td>\n",
       "      <td>y</td>\n",
       "    </tr>\n",
       "    <tr>\n",
       "      <th>2</th>\n",
       "      <td>-9216230035109811886</td>\n",
       "      <td>0.81110</td>\n",
       "      <td>0.898586</td>\n",
       "      <td>z</td>\n",
       "    </tr>\n",
       "    <tr>\n",
       "      <th>3</th>\n",
       "      <td>-9201141654230958967</td>\n",
       "      <td>0.37195</td>\n",
       "      <td>0.429384</td>\n",
       "      <td>i</td>\n",
       "    </tr>\n",
       "    <tr>\n",
       "      <th>4</th>\n",
       "      <td>-9201141654230958967</td>\n",
       "      <td>0.37195</td>\n",
       "      <td>0.429384</td>\n",
       "      <td>y</td>\n",
       "    </tr>\n",
       "    <tr>\n",
       "      <th>...</th>\n",
       "      <td>...</td>\n",
       "      <td>...</td>\n",
       "      <td>...</td>\n",
       "      <td>...</td>\n",
       "    </tr>\n",
       "    <tr>\n",
       "      <th>3705</th>\n",
       "      <td>9210949481403948015</td>\n",
       "      <td>0.89759</td>\n",
       "      <td>1.032211</td>\n",
       "      <td>y</td>\n",
       "    </tr>\n",
       "    <tr>\n",
       "      <th>3706</th>\n",
       "      <td>9213503365822339181</td>\n",
       "      <td>0.18202</td>\n",
       "      <td>0.256880</td>\n",
       "      <td>i</td>\n",
       "    </tr>\n",
       "    <tr>\n",
       "      <th>3707</th>\n",
       "      <td>9213503365822339181</td>\n",
       "      <td>0.18202</td>\n",
       "      <td>0.256880</td>\n",
       "      <td>r</td>\n",
       "    </tr>\n",
       "    <tr>\n",
       "      <th>3708</th>\n",
       "      <td>9213503365822339181</td>\n",
       "      <td>0.18202</td>\n",
       "      <td>0.256880</td>\n",
       "      <td>y</td>\n",
       "    </tr>\n",
       "    <tr>\n",
       "      <th>3709</th>\n",
       "      <td>9213503365822339181</td>\n",
       "      <td>0.18202</td>\n",
       "      <td>0.256880</td>\n",
       "      <td>z</td>\n",
       "    </tr>\n",
       "  </tbody>\n",
       "</table>\n",
       "<p>3710 rows × 4 columns</p>\n",
       "</div>"
      ],
      "text/plain": [
       "               ssobjectid     peri         a filter\n",
       "0    -9216230035109811886  0.81110  0.898586      i\n",
       "1    -9216230035109811886  0.81110  0.898586      y\n",
       "2    -9216230035109811886  0.81110  0.898586      z\n",
       "3    -9201141654230958967  0.37195  0.429384      i\n",
       "4    -9201141654230958967  0.37195  0.429384      y\n",
       "...                   ...      ...       ...    ...\n",
       "3705  9210949481403948015  0.89759  1.032211      y\n",
       "3706  9213503365822339181  0.18202  0.256880      i\n",
       "3707  9213503365822339181  0.18202  0.256880      r\n",
       "3708  9213503365822339181  0.18202  0.256880      y\n",
       "3709  9213503365822339181  0.18202  0.256880      z\n",
       "\n",
       "[3710 rows x 4 columns]"
      ]
     },
     "execution_count": 4,
     "metadata": {},
     "output_type": "execute_result"
    }
   ],
   "source": [
    "example_1.data"
   ]
  },
  {
   "cell_type": "markdown",
   "id": "900b8669",
   "metadata": {},
   "source": [
    "#### If one would prefer to save the plot, that can  be done by calling the save(filename, extension) method"
   ]
  },
  {
   "cell_type": "code",
   "execution_count": 5,
   "id": "457597d6",
   "metadata": {},
   "outputs": [],
   "source": [
    "example_1.save(\"example_1\", \"jpeg\")"
   ]
  },
  {
   "cell_type": "markdown",
   "id": "9dff6c3e",
   "metadata": {},
   "source": [
    "#### The figure can be accessed again using the fig attribute"
   ]
  },
  {
   "cell_type": "code",
   "execution_count": 6,
   "id": "42708da8",
   "metadata": {},
   "outputs": [
    {
     "data": {
      "image/png": "[encoded data removed]",
      "text/plain": [
       "<Figure size 432x288 with 1 Axes>"
      ]
     },
     "execution_count": 6,
     "metadata": {},
     "output_type": "execute_result"
    }
   ],
   "source": [
    "example_1.fig"
   ]
  },
  {
   "cell_type": "markdown",
   "id": "038bd60a",
   "metadata": {},
   "source": [
    "### We can also visualise the perihelion distributions"
   ]
  },
  {
   "cell_type": "code",
   "execution_count": 7,
   "id": "df1d82e7",
   "metadata": {},
   "outputs": [],
   "source": [
    "from orbital_element_distributions import eccentricity"
   ]
  },
  {
   "cell_type": "markdown",
   "id": "d3bdbf9e",
   "metadata": {},
   "source": [
    "### Parameters to any of the may functions include:"
   ]
  },
  {
   "cell_type": "markdown",
   "id": "295688db",
   "metadata": {},
   "source": [
    "#####  + start and end times using ISO or  in MJD. \n",
    "#####  + plot_type = BOX (default), BOXEN or VIOLIN "
   ]
  },
  {
   "cell_type": "markdown",
   "id": "d9103c9d",
   "metadata": {},
   "source": [
    "#####  + filters, specify none to recieve all filters in one plot"
   ]
  },
  {
   "cell_type": "markdown",
   "id": "48ff8d50",
   "metadata": {},
   "source": [
    "#### + min/max_a (semi-major axis), min/max_incl, min/max_peri (perihelion), min/max_e (eccentricity)"
   ]
  },
  {
   "cell_type": "code",
   "execution_count": 8,
   "id": "18f26f7d",
   "metadata": {},
   "outputs": [
    {
     "data": {
      "image/png": "[encoded data removed]",
      "text/plain": [
       "<Figure size 432x288 with 1 Axes>"
      ]
     },
     "metadata": {
      "needs_background": "light"
     },
     "output_type": "display_data"
    }
   ],
   "source": [
    "example_2 = eccentricity(\n",
    "        start_time = 60126.0, \\\n",
    "        end_time = 60130.0, \\\n",
    "        plot_type=\"BOXEN\",\n",
    "        min_e = 0.2, \\\n",
    "        max_e = 0.6, \\\n",
    "        max_a = 1.3,\n",
    "        title=\"Near earth object - eccentricty distributions\\n 2023-07-01 - 2023-07-05\")"
   ]
  },
  {
   "cell_type": "code",
   "execution_count": 9,
   "id": "1ec60750",
   "metadata": {},
   "outputs": [],
   "source": [
    "from orbital_element_distributions import perihelion"
   ]
  },
  {
   "cell_type": "code",
   "execution_count": 10,
   "id": "f6096dcb",
   "metadata": {},
   "outputs": [
    {
     "data": {
      "image/png": "[encoded data removed]",
      "text/plain": [
       "<Figure size 432x288 with 1 Axes>"
      ]
     },
     "metadata": {
      "needs_background": "light"
     },
     "output_type": "display_data"
    }
   ],
   "source": [
    "example_3 = perihelion(\n",
    "    start_time = 60126.0, \\\n",
    "    end_time = 60130.0, \\\n",
    "    plot_type=\"BOXEN\",\n",
    "    min_e = 0.2, \\\n",
    "    max_e = 0.6, \\\n",
    "    max_a = 2,\n",
    "    title=\"Inner solar system perihelion distributions\\n 2023-07-01 - 2023-07-05\"\n",
    ")"
   ]
  },
  {
   "cell_type": "code",
   "execution_count": 11,
   "id": "6847d0dc",
   "metadata": {},
   "outputs": [],
   "source": [
    "from orbital_element_distributions import inclination"
   ]
  },
  {
   "cell_type": "code",
   "execution_count": 12,
   "id": "118063b9",
   "metadata": {
    "scrolled": true
   },
   "outputs": [
    {
     "data": {
      "image/png": "[encoded data removed]",
      "text/plain": [
       "<Figure size 432x288 with 1 Axes>"
      ]
     },
     "metadata": {
      "needs_background": "light"
     },
     "output_type": "display_data"
    }
   ],
   "source": [
    "example_4 = inclination(\n",
    "    start_time = \"2023-07-01\", \n",
    "    end_time = \"2023-07-05\",\n",
    "    plot_type=\"BOXEN\",\n",
    "    min_e = 0.1,\n",
    "    min_a = 5,\n",
    "    title=\"Outer solar system inclination distributions\\n 2023-07-01 - 2023-07-05\"\n",
    ")"
   ]
  }
 ],
 "metadata": {
  "kernelspec": {
   "display_name": "Rubin Sim (v0.9.0)",
   "language": "python",
   "name": "python3-sims-v0.9.0"
  },
  "language_info": {
   "codemirror_mode": {
    "name": "ipython",
    "version": 3
   },
   "file_extension": ".py",
   "mimetype": "text/x-python",
   "name": "python",
   "nbconvert_exporter": "python",
   "pygments_lexer": "ipython3",
   "version": "3.9.13"
  }
 },
 "nbformat": 4,
 "nbformat_minor": 5
}
