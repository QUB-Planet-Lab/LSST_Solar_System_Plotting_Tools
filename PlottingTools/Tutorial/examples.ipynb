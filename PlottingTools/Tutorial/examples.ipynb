{
 "cells": [
  {
   "cell_type": "markdown",
   "id": "2bc141ab",
   "metadata": {},
   "source": [
    "# Examples - LSST Plotting tool"
   ]
  },
  {
   "cell_type": "markdown",
   "id": "baffc996",
   "metadata": {},
   "source": [
    "### Orbital element distribution plots"
   ]
  },
  {
   "cell_type": "markdown",
   "id": "0031f51f",
   "metadata": {},
   "source": [
    "### A series of high level functions is contained in the orbital_element_distributions module. It contains the functions; eccentricity, perihelion, inclination and semi_major_axis."
   ]
  },
  {
   "cell_type": "code",
   "execution_count": 1,
   "id": "54872da6",
   "metadata": {},
   "outputs": [],
   "source": [
    "import sys\n",
    "sys.path.append('../Source')"
   ]
  },
  {
   "cell_type": "markdown",
   "id": "77de1f5b",
   "metadata": {},
   "source": [
    "#### If one wants to see the semi-major axis distributions for inner solar system objects, i.e. objects at around 2 au, firstly import the function"
   ]
  },
  {
   "cell_type": "code",
   "execution_count": 2,
   "id": "a3e70db8",
   "metadata": {
    "scrolled": true
   },
   "outputs": [],
   "source": [
    "from orbital_element_distributions import semi_major_axis"
   ]
  },
  {
   "cell_type": "code",
   "execution_count": null,
   "id": "13414fae",
   "metadata": {
    "scrolled": false
   },
   "outputs": [],
   "source": [
    "%%time\n",
    "example_1 = semi_major_axis(start_time = \"2023-07-01\", \\\n",
    "                            end_time = \"2023-07-05\", \\\n",
    "                            plot_type=\"BOX\", \\\n",
    "                            filters=['g','r', 'i', 'z', 'y'], \\\n",
    "                            min_a = 0,\n",
    "                            max_a = 1.5, \\\n",
    "                            title=\"Inner solar system semi-major axis distributions\\n 2023-07-01 - 2023-07-05\",\n",
    "                           cache_data = True)"
   ]
  },
  {
   "cell_type": "markdown",
   "id": "92a6c02e",
   "metadata": {},
   "source": [
    "#### To save additional calls to the database the dataframe can be accessed as an attribute if cache_data = True in plotting function"
   ]
  },
  {
   "cell_type": "code",
   "execution_count": null,
   "id": "57345298",
   "metadata": {
    "scrolled": true
   },
   "outputs": [],
   "source": [
    "example_1.data"
   ]
  },
  {
   "cell_type": "markdown",
   "id": "900b8669",
   "metadata": {},
   "source": [
    "#### If one would prefer to save the plot, that can  be done by calling the save(filename, extension) method"
   ]
  },
  {
   "cell_type": "code",
   "execution_count": null,
   "id": "457597d6",
   "metadata": {},
   "outputs": [],
   "source": [
    "example_1.save(\"example_1\", \"png\")"
   ]
  },
  {
   "cell_type": "markdown",
   "id": "9dff6c3e",
   "metadata": {},
   "source": [
    "#### The figure can updated using the appropriate method"
   ]
  },
  {
   "cell_type": "code",
   "execution_count": null,
   "id": "8175f5fd",
   "metadata": {},
   "outputs": [],
   "source": [
    "example_1.update_title(\"New title\")\n",
    "example_1.update_xlabel(\"Semi-Major axis (au)\")\n",
    "example_1.update_ylabel(\"Filter / Color\")"
   ]
  },
  {
   "cell_type": "code",
   "execution_count": null,
   "id": "755381e9",
   "metadata": {
    "scrolled": true
   },
   "outputs": [],
   "source": [
    "example_1.fig"
   ]
  },
  {
   "cell_type": "markdown",
   "id": "038bd60a",
   "metadata": {},
   "source": [
    "### We can also visualise the eccentricity distributions."
   ]
  },
  {
   "cell_type": "code",
   "execution_count": null,
   "id": "df1d82e7",
   "metadata": {},
   "outputs": [],
   "source": [
    "from orbital_element_distributions import eccentricity"
   ]
  },
  {
   "cell_type": "markdown",
   "id": "d3bdbf9e",
   "metadata": {},
   "source": [
    "### Parameters to any of the may functions include:"
   ]
  },
  {
   "cell_type": "markdown",
   "id": "295688db",
   "metadata": {},
   "source": [
    "#####  + start and end times using ISO or  in MJD. \n",
    "#####  + plot_type = BOX (default), BOXEN or VIOLIN "
   ]
  },
  {
   "cell_type": "markdown",
   "id": "d9103c9d",
   "metadata": {},
   "source": [
    "#####  + filters, specify none to recieve all filters in one plot"
   ]
  },
  {
   "cell_type": "markdown",
   "id": "48ff8d50",
   "metadata": {},
   "source": [
    "#### + min/max_a (semi-major axis), min/max_incl, min/max_peri (perihelion), min/max_e (eccentricity)"
   ]
  },
  {
   "cell_type": "code",
   "execution_count": null,
   "id": "18f26f7d",
   "metadata": {},
   "outputs": [],
   "source": [
    "example_2 = eccentricity(\n",
    "        start_time = 60130.0, \\\n",
    "        end_time = 60132.0, \\\n",
    "        plot_type=\"BOXEN\",\n",
    "        min_e = 0.2, \\\n",
    "        max_e = 0.6, \\\n",
    "        max_a = 1.3,\n",
    "        title=\"Near earth object - eccentricty distributions\\n 2023-07-01 - 2023-07-05\")"
   ]
  },
  {
   "cell_type": "code",
   "execution_count": null,
   "id": "1ec60750",
   "metadata": {},
   "outputs": [],
   "source": [
    "from orbital_element_distributions import perihelion"
   ]
  },
  {
   "cell_type": "code",
   "execution_count": null,
   "id": "f6096dcb",
   "metadata": {},
   "outputs": [],
   "source": [
    "example_3 = perihelion(\n",
    "    start_time = 60126.0, \\\n",
    "    end_time = 60130.0, \\\n",
    "    plot_type=\"BOXEN\",\n",
    "    min_e = 0.2, \\\n",
    "    max_e = 0.6, \\\n",
    "    max_a = 2,\n",
    "    title=\"Inner solar system perihelion distributions\\n 2023-07-01 - 2023-07-05\"\n",
    ")"
   ]
  },
  {
   "cell_type": "code",
   "execution_count": null,
   "id": "6847d0dc",
   "metadata": {},
   "outputs": [],
   "source": [
    "from orbital_element_distributions import inclination"
   ]
  },
  {
   "cell_type": "code",
   "execution_count": null,
   "id": "118063b9",
   "metadata": {
    "scrolled": false
   },
   "outputs": [],
   "source": [
    "example_4 = inclination(\n",
    "    start_time = \"2023-07-01\", \n",
    "    end_time = \"2023-07-05\",\n",
    "    plot_type=\"BOXEN\",\n",
    "    min_e = 0.1,\n",
    "    min_a = 30,\n",
    "    max_a = 150,\n",
    "    title=\"Outer solar system inclination distributions\\n 2023-07-01 - 2023-07-05\"\n",
    ")"
   ]
  },
  {
   "cell_type": "markdown",
   "id": "d6a76483",
   "metadata": {},
   "source": [
    "### Near earth objects"
   ]
  },
  {
   "cell_type": "code",
   "execution_count": null,
   "id": "bf0e11f1",
   "metadata": {
    "scrolled": true
   },
   "outputs": [],
   "source": [
    "'''\n",
    "neo_inclination = inclination(\n",
    "    start_time = \"2023-07-01\", \n",
    "    end_time = \"2023-07-05\",\n",
    "    plot_type=\"BOXEN\",\n",
    "    min_peri = 0,\n",
    "    max_peri = 1.3,\n",
    "    title=\"Near earth object inclination distributions\\n 2023-07-01 - 2023-07-05\"\n",
    ")\n",
    "'''"
   ]
  },
  {
   "cell_type": "markdown",
   "id": "439cd276",
   "metadata": {},
   "source": [
    "### Inner solar system"
   ]
  },
  {
   "cell_type": "code",
   "execution_count": null,
   "id": "f57c0edb",
   "metadata": {},
   "outputs": [],
   "source": [
    "inner_solar_sys_perihelion = perihelion(\n",
    "    start_time = \"2023-07-01\", \n",
    "    end_time = \"2023-07-05\",\n",
    "    plot_type=\"BOX\",\n",
    "    max_a = 5,\n",
    "    title=\"Inner solar system perihelion distributions\\n 2023-07-01 - 2023-07-05\"\n",
    ")"
   ]
  },
  {
   "cell_type": "code",
   "execution_count": null,
   "id": "036bcfef",
   "metadata": {},
   "outputs": [],
   "source": [
    "inner_solar_sys_sma = semi_major_axis(\n",
    "    start_time = \"2023-07-01\", \n",
    "    end_time = \"2023-07-05\",\n",
    "    plot_type=\"BOX\",\n",
    "    max_a = 5,\n",
    "    title=\"Inner solar system semi-major axis distributions\\n 2023-07-01 - 2023-07-05\"\n",
    ")"
   ]
  },
  {
   "cell_type": "markdown",
   "id": "535bba6a",
   "metadata": {},
   "source": [
    "### Outer solar system"
   ]
  },
  {
   "cell_type": "code",
   "execution_count": null,
   "id": "3bf3bf3c",
   "metadata": {},
   "outputs": [],
   "source": [
    "outer_solar_sys_perihelion = perihelion(\n",
    "    start_time = \"2023-07-01\", \n",
    "    end_time = \"2023-07-05\",\n",
    "    plot_type=\"BOX\",\n",
    "    min_a = 50, # ?\n",
    "    max_a = 150,\n",
    "    title=\"Outer solar system perihelion distributions\\n 2023-07-01 - 2023-07-05\"\n",
    ")"
   ]
  },
  {
   "cell_type": "code",
   "execution_count": null,
   "id": "b0a6f13c",
   "metadata": {
    "scrolled": true
   },
   "outputs": [],
   "source": [
    "outer_solar_sys_inclination = inclination(\n",
    "    start_time = \"2023-07-01\", \n",
    "    end_time = \"2023-07-05\",\n",
    "    plot_type=\"BOXEN\",\n",
    "    min_a = 50, # ?\n",
    "    max_a = 150,\n",
    "    title=\"Outer solar system inclination distributions\\n 2023-07-01 - 2023-07-05\"\n",
    ")"
   ]
  },
  {
   "cell_type": "code",
   "execution_count": null,
   "id": "b43925ff",
   "metadata": {},
   "outputs": [],
   "source": [
    "outer_solar_sys_sma = semi_major_axis(\n",
    "    start_time = \"2023-07-01\", \n",
    "    end_time = \"2023-07-05\",\n",
    "    plot_type=\"BOX\",\n",
    "    min_a = 50, # ?\n",
    "    max_a = 150,\n",
    "    title=\"Outer solar system semi-major axis distributions\\n 2023-07-01 - 2023-07-05\"\n",
    ")"
   ]
  },
  {
   "cell_type": "code",
   "execution_count": null,
   "id": "ce86fefb",
   "metadata": {
    "scrolled": false
   },
   "outputs": [],
   "source": [
    "outer_solar_sys_eccentricity = eccentricity(\n",
    "    start_time = \"2023-07-01\", \n",
    "    end_time = \"2023-07-05\",\n",
    "    plot_type=\"BOX\",\n",
    "    min_a = 50, # ?\n",
    "    max_a = 150,\n",
    "    title=\"Outer solar system eccentricity distributions\\n 2023-07-01 - 2023-07-05\"\n",
    ")"
   ]
  },
  {
   "cell_type": "markdown",
   "id": "874bf832",
   "metadata": {},
   "source": [
    "## Light curves"
   ]
  },
  {
   "cell_type": "code",
   "execution_count": null,
   "id": "16ba839a",
   "metadata": {},
   "outputs": [],
   "source": [
    "from light_curve import _light_curve"
   ]
  },
  {
   "cell_type": "markdown",
   "id": "2d612a5c",
   "metadata": {},
   "source": [
    "args:\n",
    "filter: Optional[Literal['g','r','i','z','y']] = None,\n",
    "                start_time : Optional[float] = None, end_time : Optional[float] = None,\n",
    "                title : Optional[str] = None,\n",
    "                mpcdesignation: Optional[str] = None,\n",
    "                time_format: Optional[Literal['ISO', 'MJD']] = 'ISO'"
   ]
  },
  {
   "cell_type": "code",
   "execution_count": null,
   "id": "1501f7c8",
   "metadata": {
    "scrolled": false
   },
   "outputs": [],
   "source": [
    "_light_curve(mpcdesignation = \"S100kWwNa\",\n",
    "            start_time = \"2024-06-01\",\n",
    "            end_time = \"2026-06-01\",\n",
    "            filters = ['g','r','i','z','y'],\n",
    "            title = f\"S100kWwNa (2024-06-01 - 2026-06-01)\",\n",
    "           )"
   ]
  },
  {
   "cell_type": "markdown",
   "id": "3acbdfb7",
   "metadata": {},
   "source": [
    "## Phase curves"
   ]
  },
  {
   "cell_type": "code",
   "execution_count": null,
   "id": "920cf53b",
   "metadata": {},
   "outputs": [],
   "source": [
    "from phase_curve import _phase_curve"
   ]
  },
  {
   "cell_type": "markdown",
   "id": "2c1db860",
   "metadata": {},
   "source": [
    "args:\n",
    "filters: Optional[List['u','g','r','i','z','y']] = None,\n",
    "                start_time : Optional[float] = None, end_time : Optional[float] = None,\n",
    "                title : Optional[str] = None,\n",
    "                mpcdesignation: Optional[str] = None"
   ]
  },
  {
   "cell_type": "code",
   "execution_count": null,
   "id": "48d537ee",
   "metadata": {
    "scrolled": true
   },
   "outputs": [],
   "source": [
    "pc = _phase_curve(mpcdesignation = \"S100kWwNa\",\n",
    "            filters = [\"g\",\"r\", \"i\"],\n",
    "            title = f\"S100kWwNa\\n\",\n",
    "           )"
   ]
  }
 ],
 "metadata": {
  "kernelspec": {
   "display_name": "Rubin Sim (v0.9.0)",
   "language": "python",
   "name": "python3-sims-v0.9.0"
  },
  "language_info": {
   "codemirror_mode": {
    "name": "ipython",
    "version": 3
   },
   "file_extension": ".py",
   "mimetype": "text/x-python",
   "name": "python",
   "nbconvert_exporter": "python",
   "pygments_lexer": "ipython3",
   "version": "3.9.13"
  }
 },
 "nbformat": 4,
 "nbformat_minor": 5
}
